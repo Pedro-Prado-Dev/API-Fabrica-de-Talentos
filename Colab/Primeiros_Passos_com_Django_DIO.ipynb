{
  "cells": [
    {
      "cell_type": "markdown",
      "metadata": {
        "id": "view-in-github",
        "colab_type": "text"
      },
      "source": [
        "<a href=\"https://colab.research.google.com/github/Pedro-Prado-Dev/API-Fabrica-de-Talentos/blob/main/Colab/Primeiros_Passos_com_Django_DIO.ipynb\" target=\"_parent\"><img src=\"https://colab.research.google.com/assets/colab-badge.svg\" alt=\"Open In Colab\"/></a>"
      ]
    },
    {
      "cell_type": "markdown",
      "source": [
        "\n",
        "Passo 1:\n",
        "\n",
        "Acesse o Google Colab, faça login e crie um notebook. Você pode acessar o google Colab usando o link abaixo. Ou apenas pesquise no Google."
      ],
      "metadata": {
        "id": "3rqF_H-IjeT-"
      }
    },
    {
      "cell_type": "code",
      "execution_count": null,
      "metadata": {
        "colab": {
          "base_uri": "https://localhost:8080/"
        },
        "id": "hEBrs6sWhHi7",
        "outputId": "bc295801-c515-4c7a-ffd1-80034c1c1d77"
      },
      "outputs": [
        {
          "output_type": "stream",
          "name": "stdout",
          "text": [
            "Requirement already satisfied: o in /usr/local/lib/python3.10/dist-packages (0.0.2b2)\n",
            "Requirement already satisfied: django in /usr/local/lib/python3.10/dist-packages (5.0.4)\n",
            "Requirement already satisfied: asgiref<4,>=3.7.0 in /usr/local/lib/python3.10/dist-packages (from django) (3.8.1)\n",
            "Requirement already satisfied: sqlparse>=0.3.1 in /usr/local/lib/python3.10/dist-packages (from django) (0.5.0)\n",
            "Requirement already satisfied: typing-extensions>=4 in /usr/local/lib/python3.10/dist-packages (from asgiref<4,>=3.7.0->django) (4.11.0)\n"
          ]
        }
      ],
      "source": [
        "!pip install o django"
      ]
    },
    {
      "cell_type": "markdown",
      "source": [
        "Desde que eu quero mostrar a vocês um exemplo de trabalho. Vou criar um novo projeto. Você pode usar o comando abaixo se não souber como ou se for novo no Django. Usando o '!' no início, você pode executar qualquer comando de terminal linux."
      ],
      "metadata": {
        "id": "HhLfpCcpjh3m"
      }
    },
    {
      "cell_type": "code",
      "source": [
        "!django-admin startproject portifolio"
      ],
      "metadata": {
        "colab": {
          "base_uri": "https://localhost:8080/"
        },
        "id": "7bOZJoj2h3PM",
        "outputId": "4b82784c-913a-4bee-f26d-9fcc78e262ec"
      },
      "execution_count": null,
      "outputs": [
        {
          "output_type": "stream",
          "name": "stdout",
          "text": [
            "\u001b[31;1mCommandError: '/content/portifolio/portifolio' already exists\n",
            "\u001b[0m"
          ]
        }
      ]
    },
    {
      "cell_type": "markdown",
      "source": [
        "Use ls para verificar sua estrutura de diretórios. Abaixo está a saída do meu projeto.\n",
        "\n",
        "Agora lembre-se de alterar seu diretório, ou seja, portfólio não funciona com uma exclamação (!) no Google Colab. Você precisa usar % antes do seu comando."
      ],
      "metadata": {
        "id": "9dQnb3hojoF9"
      }
    },
    {
      "cell_type": "code",
      "source": [
        "%cd portifolio/"
      ],
      "metadata": {
        "colab": {
          "base_uri": "https://localhost:8080/"
        },
        "id": "Id4bofzLixlr",
        "outputId": "f2a3c1c5-a01a-4ee8-ab23-ddc3bf80d318"
      },
      "execution_count": null,
      "outputs": [
        {
          "output_type": "stream",
          "name": "stdout",
          "text": [
            "/content/portifolio/portifolio\n"
          ]
        }
      ]
    },
    {
      "cell_type": "markdown",
      "source": [
        "Agora a configuração básica do seu projeto Django está feita. Vamos para algo prático:"
      ],
      "metadata": {
        "id": "Um0PvZXCjtp1"
      }
    },
    {
      "cell_type": "code",
      "source": [
        "from google.colab.output import eval_js\n",
        "print(eval_js(\"google.colab.kernel.proxyPort(8000)\"))\n"
      ],
      "metadata": {
        "colab": {
          "base_uri": "https://localhost:8080/",
          "height": 34
        },
        "id": "12WPCONti9zy",
        "outputId": "09ba391e-b876-439b-c1c3-64b237296e9e"
      },
      "execution_count": null,
      "outputs": [
        {
          "output_type": "stream",
          "name": "stdout",
          "text": [
            "https://zgm01ebrnx-496ff2e9c6d22116-8000-colab.googleusercontent.com/\n"
          ]
        }
      ]
    },
    {
      "cell_type": "markdown",
      "source": [
        "Observe que forneci uma porta no código acima. Precisamos usar a mesma porta não. sempre que estiver executando o servidor Django. E precisamos do link para acessar o servidor da nossa máquina local.\n",
        "\n",
        "Além disso, você não pode se conectar diretamente ao servidor de desenvolvimento. precisamos adicioná-lo em ALLOWED_HOSTS, que é uma lista em settings.py."
      ],
      "metadata": {
        "id": "9Ebc3KuOjvto"
      }
    },
    {
      "cell_type": "code",
      "source": [
        "ALLOWED_HOSTS = ['colab.research.google.com']"
      ],
      "metadata": {
        "id": "M9WfKfyqjIIm"
      },
      "execution_count": null,
      "outputs": []
    },
    {
      "cell_type": "markdown",
      "source": [
        "Agora execute seu servidor usando o código abaixo. E acesse o servidor usando o link do Google Colab que você imprimiu executando o método eval_js anteriormente.\n",
        "\n",
        "NÃO EXECUTE O SERVIDOR USANDO O ENDEREÇO ​​DO SERVIDOR OBTIDOS DEPOIS DE EXECUTAR O COMANDO ABAIXO."
      ],
      "metadata": {
        "id": "jQ43qUn3j2NM"
      }
    },
    {
      "cell_type": "code",
      "source": [
        "!python manage.py runserver 8000"
      ],
      "metadata": {
        "colab": {
          "base_uri": "https://localhost:8080/"
        },
        "id": "WjnrQneVj6U7",
        "outputId": "0b9aac0d-5fbb-44a4-d67b-114b1b2d294e"
      },
      "execution_count": null,
      "outputs": [
        {
          "output_type": "stream",
          "name": "stdout",
          "text": [
            "python3: can't open file '/content/portifolio/portifolio/manage.py': [Errno 2] No such file or directory\n"
          ]
        }
      ]
    }
  ],
  "metadata": {
    "colab": {
      "provenance": [],
      "authorship_tag": "ABX9TyPhMTbo4sqPLlynEjdtOZzF",
      "include_colab_link": true
    },
    "kernelspec": {
      "display_name": "Python 3",
      "name": "python3"
    },
    "language_info": {
      "name": "python"
    }
  },
  "nbformat": 4,
  "nbformat_minor": 0
}